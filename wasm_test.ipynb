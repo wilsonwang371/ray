{
 "cells": [
  {
   "cell_type": "code",
   "execution_count": null,
   "metadata": {
    "scrolled": false
   },
   "outputs": [],
   "source": [
    "import ray\n",
    "\n",
    "\n",
    "@ray.remote(wasm=1)\n",
    "def test():\n",
    "    print('hi')\n",
    "    return\n",
    "\n",
    "test.remote()\n",
    "\n",
    "# @ray.remote(wasm=1)\n",
    "# class A:\n",
    "#     def test():\n",
    "#         print('hello')\n",
    "\n",
    "        \n",
    "# a = A.remote()\n",
    "# a.test.remote()\n"
   ]
  },
  {
   "cell_type": "code",
   "execution_count": 1,
   "metadata": {
    "scrolled": false
   },
   "outputs": [
    {
     "name": "stdout",
     "output_type": "stream",
     "text": [
      "Launch Process: '/Users/xiaoshuang/opt/miniconda3/bin/python' '-u' '/Users/xiaoshuang/opt/miniconda3/lib/python3.10/site-packages/ray-3.0.0.dev0-py3.10-macosx-10.9-x86_64.egg/ray/_private/ray_process_reaper.py'\n",
      "Launch Process: '/Users/xiaoshuang/opt/miniconda3/lib/python3.10/site-packages/ray-3.0.0.dev0-py3.10-macosx-10.9-x86_64.egg/ray/core/src/ray/gcs/gcs_server' '--log_dir=/tmp/ray/session_2022-12-25_22-38-01_260858_46978/logs' '--config_list=eyJvYmplY3Rfc3BpbGxpbmdfY29uZmlnIjogIntcInR5cGVcIjogXCJmaWxlc3lzdGVtXCIsIFwicGFyYW1zXCI6IHtcImRpcmVjdG9yeV9wYXRoXCI6IFwiL3RtcC9yYXkvc2Vzc2lvbl8yMDIyLTEyLTI1XzIyLTM4LTAxXzI2MDg1OF80Njk3OFwifX0iLCAiaXNfZXh0ZXJuYWxfc3RvcmFnZV90eXBlX2ZzIjogdHJ1ZX0=' '--gcs_server_port=61217' '--metrics-agent-port=62616' '--node-ip-address=127.0.0.1' '--session-name=session_2022-12-25_22-38-01_260858_46978' '--redis_password=5241590000000000'\n",
      "Launch Process: '/Users/xiaoshuang/opt/miniconda3/bin/python' '-u' '/Users/xiaoshuang/opt/miniconda3/lib/python3.10/site-packages/ray-3.0.0.dev0-py3.10-macosx-10.9-x86_64.egg/ray/autoscaler/_private/monitor.py' '--logs-dir=/tmp/ray/session_2022-12-25_22-38-01_260858_46978/logs' '--logging-rotate-bytes=536870912' '--logging-rotate-backup-count=5' '--gcs-address=127.0.0.1:61217' '--monitor-ip=127.0.0.1'\n",
      "Launch Process: '/Users/xiaoshuang/opt/miniconda3/bin/python' '/Users/xiaoshuang/opt/miniconda3/lib/python3.10/site-packages/ray-3.0.0.dev0-py3.10-macosx-10.9-x86_64.egg/ray/dashboard/dashboard.py' '--host=127.0.0.1' '--port=8265' '--port-retries=50' '--temp-dir=/tmp/ray' '--log-dir=/tmp/ray/session_2022-12-25_22-38-01_260858_46978/logs' '--session-dir=/tmp/ray/session_2022-12-25_22-38-01_260858_46978' '--logging-rotate-bytes=536870912' '--logging-rotate-backup-count=5' '--gcs-address=127.0.0.1:61217' '--minimal'\n",
      "Launch Process: '/Users/xiaoshuang/opt/miniconda3/lib/python3.10/site-packages/ray-3.0.0.dev0-py3.10-macosx-10.9-x86_64.egg/ray/core/src/ray/raylet/raylet' '--raylet_socket_name=/tmp/ray/session_2022-12-25_22-38-01_260858_46978/sockets/raylet' '--store_socket_name=/tmp/ray/session_2022-12-25_22-38-01_260858_46978/sockets/plasma_store' '--object_manager_port=0' '--min_worker_port=0' '--max_worker_port=0' '--node_manager_port=0' '--node_ip_address=127.0.0.1' '--maximum_startup_concurrency=8' '--static_resource_list=node:127.0.0.1,1.0,CPU,8,memory,5042397184,object_store_memory,2147483648' '--python_worker_command=/Users/xiaoshuang/opt/miniconda3/bin/python /Users/xiaoshuang/opt/miniconda3/lib/python3.10/site-packages/ray-3.0.0.dev0-py3.10-macosx-10.9-x86_64.egg/ray/_private/workers/setup_worker.py /Users/xiaoshuang/opt/miniconda3/lib/python3.10/site-packages/ray-3.0.0.dev0-py3.10-macosx-10.9-x86_64.egg/ray/_private/workers/default_worker.py --node-ip-address=127.0.0.1 --node-manager-port=RAY_NODE_MANAGER_PORT_PLACEHOLDER --object-store-name=/tmp/ray/session_2022-12-25_22-38-01_260858_46978/sockets/plasma_store --raylet-name=/tmp/ray/session_2022-12-25_22-38-01_260858_46978/sockets/raylet --redis-address=None --temp-dir=/tmp/ray --metrics-agent-port=62616 --logging-rotate-bytes=536870912 --logging-rotate-backup-count=5 --gcs-address=127.0.0.1:61217 --session-name=session_2022-12-25_22-38-01_260858_46978 --temp-dir=/tmp/ray --webui= --storage=None RAY_WORKER_DYNAMIC_OPTION_PLACEHOLDER --redis-password=5241590000000000' '--java_worker_command=' '--cpp_worker_command=' '--wasm_worker_command=/Users/xiaoshuang/opt/miniconda3/bin/python /Users/xiaoshuang/opt/miniconda3/lib/python3.10/site-packages/ray-3.0.0.dev0-py3.10-macosx-10.9-x86_64.egg/ray/_private/workers/setup_worker.py /Users/xiaoshuang/opt/miniconda3/lib/python3.10/site-packages/ray-3.0.0.dev0-py3.10-macosx-10.9-x86_64.egg/ray/_private/workers/default_worker.py --node-ip-address=127.0.0.1 --node-manager-port=RAY_NODE_MANAGER_PORT_PLACEHOLDER --object-store-name=/tmp/ray/session_2022-12-25_22-38-01_260858_46978/sockets/plasma_store --raylet-name=/tmp/ray/session_2022-12-25_22-38-01_260858_46978/sockets/raylet --redis-address=None --temp-dir=/tmp/ray --metrics-agent-port=62616 --logging-rotate-bytes=536870912 --logging-rotate-backup-count=5 --gcs-address=127.0.0.1:61217 --session-name=session_2022-12-25_22-38-01_260858_46978 --temp-dir=/tmp/ray --webui= --storage=None RAY_WORKER_DYNAMIC_OPTION_PLACEHOLDER --redis-password=5241590000000000 --enable-wasm=true' '--native_library_path=/Users/xiaoshuang/opt/miniconda3/lib/python3.10/site-packages/ray-3.0.0.dev0-py3.10-macosx-10.9-x86_64.egg/ray/cpp/lib' '--temp_dir=/tmp/ray' '--session_dir=/tmp/ray/session_2022-12-25_22-38-01_260858_46978' '--log_dir=/tmp/ray/session_2022-12-25_22-38-01_260858_46978/logs' '--resource_dir=/tmp/ray/session_2022-12-25_22-38-01_260858_46978/runtime_resources' '--metrics-agent-port=62616' '--metrics_export_port=65174' '--object_store_memory=2147483648' '--plasma_directory=/tmp' '--ray-debugger-external=0' '--gcs-address=127.0.0.1:61217' '--session-name=session_2022-12-25_22-38-01_260858_46978' '--num_initial_python_workers_for_first_job=8' '--agent_command=/Users/xiaoshuang/opt/miniconda3/bin/python -u /Users/xiaoshuang/opt/miniconda3/lib/python3.10/site-packages/ray-3.0.0.dev0-py3.10-macosx-10.9-x86_64.egg/ray/dashboard/agent.py --node-ip-address=127.0.0.1 --metrics-export-port=65174 --dashboard-agent-port=62616 --listen-port=52365 --node-manager-port=RAY_NODE_MANAGER_PORT_PLACEHOLDER --object-store-name=/tmp/ray/session_2022-12-25_22-38-01_260858_46978/sockets/plasma_store --raylet-name=/tmp/ray/session_2022-12-25_22-38-01_260858_46978/sockets/raylet --temp-dir=/tmp/ray --session-dir=/tmp/ray/session_2022-12-25_22-38-01_260858_46978 --runtime-env-dir=/tmp/ray/session_2022-12-25_22-38-01_260858_46978/runtime_resources --log-dir=/tmp/ray/session_2022-12-25_22-38-01_260858_46978/logs --logging-rotate-bytes=536870912 --logging-rotate-backup-count=5 --session-name=session_2022-12-25_22-38-01_260858_46978 --gcs-address=127.0.0.1:61217 --minimal'\n",
      "Launch Process: '/Users/xiaoshuang/opt/miniconda3/bin/python' '-u' '/Users/xiaoshuang/opt/miniconda3/lib/python3.10/site-packages/ray-3.0.0.dev0-py3.10-macosx-10.9-x86_64.egg/ray/_private/log_monitor.py' '--logs-dir=/tmp/ray/session_2022-12-25_22-38-01_260858_46978/logs' '--gcs-address=127.0.0.1:61217' '--logging-rotate-bytes=536870912' '--logging-rotate-backup-count=5'\n"
     ]
    },
    {
     "name": "stderr",
     "output_type": "stream",
     "text": [
      "2022-12-25 22:38:03,906\tINFO worker.py:1545 -- Started a local Ray instance.\n",
      "2022-12-25 22:38:05,986\tINFO serialization.py:467 -- serialize() value: i32\n",
      "2022-12-25 22:38:05,988\tINFO serialization.py:435 -- _serialize_to_msgpack value: i32\n",
      "2022-12-25 22:38:05,989\tINFO serialization.py:467 -- serialize() value: i32\n",
      "2022-12-25 22:38:05,989\tINFO serialization.py:435 -- _serialize_to_msgpack value: i32\n",
      "2022-12-25 22:38:05,990\tWARNING worker.py:841 -- `ray.get_gpu_ids()` will always return the empty list when called from the driver. This is because Ray does not manage GPU allocations to the driver process.\n",
      "2022-12-25 22:38:05,991\tINFO function_manager.py:277 -- serialized function: \n",
      "  (module\n",
      "    (func $hello (import \"\" \"hello\"))\n",
      "    (func $add (param $lhs i32) (param $rhs i32) (result i32)\n",
      "        local.get $lhs\n",
      "        local.get $rhs\n",
      "        i32.add)\n",
      "    (export \"add\" (func $add))\n",
      "    (func (export \"run\") (call $hello))\n",
      "  )\n",
      "\n",
      "2022-12-25 22:38:05,992\tINFO function_manager.py:319 -- function name: add\n",
      "2022-12-25 22:38:05,994\tINFO remote_function.py:410 -- Instantiated module: add\n",
      ":task_name:add\n",
      "2022-12-25 22:38:05,995\tINFO remote_function.py:410 -- B metadata_pairs: [(<ray._raylet.Buffer object at 0x7fd2b9af09b0>, b'WASM'), (<ray._raylet.Buffer object at 0x7fd2b9af0ab0>, b'WASM')]\n",
      "2022-12-25 22:38:05,995\tINFO remote_function.py:410 -- B object_refs: [ObjectRef(ffffffffffffffffffffffffffffffffffffffffffffffffffffffff), ObjectRef(ffffffffffffffffffffffffffffffffffffffffffffffffffffffff)]\n",
      "2022-12-25 22:38:05,996\tINFO serialization.py:374 -- object_ref, data, metadata: ObjectRef(ffffffffffffffffffffffffffffffffffffffffffffffffffffffff), <ray._raylet.Buffer object at 0x7fd2b9af09b0>, b'WASM'\n",
      "2022-12-25 22:38:05,997\tINFO serialization.py:253 -- _deserialize_object: <ray._raylet.Buffer object at 0x7fd2b9af09b0> b'WASM' ObjectRef(ffffffffffffffffffffffffffffffffffffffffffffffffffffffff)\n",
      "2022-12-25 22:38:05,997\tINFO serialization.py:208 -- msgpack_data: <MemoryView of 'Buffer' object>, pickle5_data: <MemoryView of 'Buffer' object>\n",
      "2022-12-25 22:38:05,998\tINFO serialization.py:214 -- python_objects: i32\n",
      "2022-12-25 22:38:05,999\tINFO serialization.py:374 -- object_ref, data, metadata: ObjectRef(ffffffffffffffffffffffffffffffffffffffffffffffffffffffff), <ray._raylet.Buffer object at 0x7fd2b9af0ab0>, b'WASM'\n",
      "2022-12-25 22:38:05,999\tINFO serialization.py:253 -- _deserialize_object: <ray._raylet.Buffer object at 0x7fd2b9af0ab0> b'WASM' ObjectRef(ffffffffffffffffffffffffffffffffffffffffffffffffffffffff)\n",
      "2022-12-25 22:38:06,000\tINFO serialization.py:208 -- msgpack_data: <MemoryView of 'Buffer' object>, pickle5_data: <MemoryView of 'Buffer' object>\n",
      "2022-12-25 22:38:06,001\tINFO serialization.py:214 -- python_objects: i32\n",
      "2022-12-25 22:38:06,001\tINFO serialization.py:388 -- results: ['i', 'i']\n",
      "2022-12-25 22:38:06,002\tINFO remote_function.py:410 -- Deserialized arguments: ['i', 'i']\n",
      "2022-12-25 22:38:06,003\tINFO remote_function.py:410 -- Executing task [] {'i': 'i'}.\n",
      "2022-12-25 22:38:06,007\tINFO serialization.py:467 -- serialize() value: \u001b[36mray::add()\u001b[39m (pid=46978, ip=127.0.0.1)\n",
      "TypeError: Func.__call__() got an unexpected keyword argument 'i'\n",
      "2022-12-25 22:38:06,008\tINFO serialization.py:435 -- _serialize_to_msgpack value: b'\\x12\\xb4\\x06\\x80\\x05\\x95)\\x03\\x00\\x00\\x00\\x00\\x00\\x00\\x8c\\x0eray.exceptions\\x94\\x8c\\x0cRayTaskError\\x94\\x93\\x94(\\x8c\\x03add\\x94X)\\x02\\x00\\x00Traceback (most recent call last):\\n  File \"python/ray/_raylet.pyx\", line 919, in ray._raylet.execute_task\\n    raise e\\n  File \"python/ray/_raylet.pyx\", line 872, in ray._raylet.execute_task\\n    with ray._private.worker._changeproctitle(title, next_title):\\n  File \"python/ray/_raylet.pyx\", line 878, in ray._raylet.execute_task\\n    outputs = function_executor(*args, **kwargs)\\n  File \"python/ray/_raylet.pyx\", line 761, in ray._raylet.execute_task.wrapper\\n    func(store, *args, **kwargs)\\nTypeError: Func.__call__() got an unexpected keyword argument \\'i\\'\\n\\x94\\x8c\\x08builtins\\x94\\x8c\\tTypeError\\x94\\x93\\x94\\x8c6Func.__call__() got an unexpected keyword argument \\'i\\'\\x94\\x85\\x94R\\x94\\x8c\\x08ray::add\\x94NNt\\x94R\\x94}\\x94(\\x8c\\tproctitle\\x94h\\x0b\\x8c\\x03pid\\x94M\\x82\\xb7\\x8c\\x02ip\\x94\\x8c\\t127.0.0.1\\x94\\x8c\\rfunction_name\\x94h\\x03\\x8c\\rtraceback_str\\x94h\\x04\\x8c\\nactor_repr\\x94N\\x8c\\x05cause\\x94h\\nub.\\x1a\\x8e\\x01ray.exceptions.RayTaskError: \\x1b[36mray::add()\\x1b[39m (pid=46978, ip=127.0.0.1)\\nTypeError: Func.__call__() got an unexpected keyword argument \\'i\\'\\n'\n"
     ]
    },
    {
     "name": "stdout",
     "output_type": "stream",
     "text": [
      ":task_name:add\n"
     ]
    },
    {
     "name": "stderr",
     "output_type": "stream",
     "text": [
      "[2022-12-25 22:38:06,010 E 46978 3513665] core_worker.cc:1549: Pushed Error with JobID: 01000000 of type: task with message: \u001b[36mray::add()\u001b[39m (pid=46978, ip=127.0.0.1)\n",
      "TypeError: Func.__call__() got an unexpected keyword argument 'i' at time: 1.67204e+09\n"
     ]
    },
    {
     "data": {
      "text/plain": [
       "ObjectRef(c8ef45ccd0112571ffffffffffffffffffffffff0100000001000000)"
      ]
     },
     "execution_count": 1,
     "metadata": {},
     "output_type": "execute_result"
    },
    {
     "name": "stderr",
     "output_type": "stream",
     "text": [
      "2022-12-25 22:38:11,911\tINFO serialization.py:374 -- object_ref, data, metadata: None, <ray._raylet.Buffer object at 0x7fd2b9af2670>, b'3'\n",
      "2022-12-25 22:38:11,914\tINFO serialization.py:253 -- _deserialize_object: <ray._raylet.Buffer object at 0x7fd2b9af2670> b'3' None\n",
      "2022-12-25 22:38:11,915\tINFO serialization.py:208 -- msgpack_data: <MemoryView of 'Buffer' object>, pickle5_data: <MemoryView of 'Buffer' object>\n",
      "2022-12-25 22:38:11,917\tINFO serialization.py:388 -- results: [RayTaskError('add', 'Traceback (most recent call last):\\n  File \"python/ray/_raylet.pyx\", line 919, in ray._raylet.execute_task\\n    raise e\\n  File \"python/ray/_raylet.pyx\", line 872, in ray._raylet.execute_task\\n    with ray._private.worker._changeproctitle(title, next_title):\\n  File \"python/ray/_raylet.pyx\", line 878, in ray._raylet.execute_task\\n    outputs = function_executor(*args, **kwargs)\\n  File \"python/ray/_raylet.pyx\", line 761, in ray._raylet.execute_task.wrapper\\n    func(store, *args, **kwargs)\\nTypeError: Func.__call__() got an unexpected keyword argument \\'i\\'\\n', TypeError(\"Func.__call__() got an unexpected keyword argument 'i'\"), 'ray::add', None, None)]\n",
      "2022-12-25 22:38:11,919\tERROR worker.py:400 -- Unhandled error (suppress with 'RAY_IGNORE_UNHANDLED_ERRORS=1'): \u001b[36mray::add()\u001b[39m (pid=46978, ip=127.0.0.1)\n",
      "TypeError: Func.__call__() got an unexpected keyword argument 'i'\n"
     ]
    }
   ],
   "source": [
    "import ray\n",
    "from wasmtime import Store, Instance, Func, FuncType\n",
    "from ray.util import Module\n",
    "\n",
    "ray.init(local_mode=True)\n",
    "\n",
    "store = Store()\n",
    "module = Module(store.engine, \"\"\"\n",
    "  (module\n",
    "    (func $hello (import \"\" \"hello\"))\n",
    "    (func $add (param $lhs i32) (param $rhs i32) (result i32)\n",
    "        local.get $lhs\n",
    "        local.get $rhs\n",
    "        i32.add)\n",
    "    (export \"add\" (func $add))\n",
    "    (func (export \"run\") (call $hello))\n",
    "  )\n",
    "\"\"\")\n",
    "\n",
    "func = ray.wasm_remote(module)\n",
    "func.remote()\n",
    "\n",
    "# def say_hello():\n",
    "#     print(\"Hello from Python!\")\n",
    "# hello = Func(store, FuncType([], []), say_hello)\n",
    "\n",
    "# instance = Instance(store, module, [hello])\n",
    "# add = instance.exports(store)[\"add\"]\n",
    "# add(store, 1, 2)\n",
    "\n"
   ]
  },
  {
   "cell_type": "code",
   "execution_count": null,
   "metadata": {},
   "outputs": [],
   "source": [
    "print(dir(module.exports[0].name))\n",
    "\n",
    "print(module.exports[0].type.params)\n",
    "print(type(module.serialize()))\n",
    "\n",
    "import pickle\n",
    "pickle.dumps(module)"
   ]
  },
  {
   "cell_type": "code",
   "execution_count": null,
   "metadata": {},
   "outputs": [],
   "source": []
  }
 ],
 "metadata": {
  "kernelspec": {
   "display_name": "Python 3 (ipykernel)",
   "language": "python",
   "name": "python3"
  },
  "language_info": {
   "codemirror_mode": {
    "name": "ipython",
    "version": 3
   },
   "file_extension": ".py",
   "mimetype": "text/x-python",
   "name": "python",
   "nbconvert_exporter": "python",
   "pygments_lexer": "ipython3",
   "version": "3.10.8"
  }
 },
 "nbformat": 4,
 "nbformat_minor": 4
}
